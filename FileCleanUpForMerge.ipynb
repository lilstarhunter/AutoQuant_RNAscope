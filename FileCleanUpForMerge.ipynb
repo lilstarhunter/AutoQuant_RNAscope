{
 "cells": [
  {
   "cell_type": "markdown",
   "id": "a220d7c9",
   "metadata": {
    "scrolled": true
   },
   "source": [
    "# Merge multiple csv files for final analysis\n",
    "## Experiment: Validation of Nucleus Accumbens Morphine 10x transcriptomics\n",
    "## ImageJ colocalization expression analysis for individual animals (n=8) across the rostral/caudal plane of the Nucleus Accumbens (n=4)"
   ]
  },
  {
   "cell_type": "code",
   "execution_count": 2,
   "id": "5cea52f3",
   "metadata": {},
   "outputs": [],
   "source": [
    "import pandas as pd\n",
    "import os\n",
    "import glob\n",
    "import re"
   ]
  },
  {
   "cell_type": "code",
   "execution_count": 12,
   "id": "8e2d1f4a",
   "metadata": {},
   "outputs": [],
   "source": [
    "# replace input directory with target of interest\n",
    "os.chdir(\"../../Celf5/Celf5_Analysis\")"
   ]
  },
  {
   "cell_type": "code",
   "execution_count": 13,
   "id": "8c724f9e",
   "metadata": {},
   "outputs": [],
   "source": [
    "extension = \"csv\"\n",
    "all_filenames = [i for i in sorted(glob.glob('*.{}'.format(extension)), key=os.path.getmtime)]"
   ]
  },
  {
   "cell_type": "code",
   "execution_count": null,
   "id": "ad31b7f8",
   "metadata": {},
   "outputs": [],
   "source": [
    "all_filenames"
   ]
  },
  {
   "cell_type": "code",
   "execution_count": 15,
   "id": "e824d658",
   "metadata": {},
   "outputs": [],
   "source": [
    "#combine all files in the list\n",
    "combined_csv = pd.concat([pd.read_csv(f) for f in all_filenames ])"
   ]
  },
  {
   "cell_type": "code",
   "execution_count": 16,
   "id": "6850e6f3",
   "metadata": {},
   "outputs": [],
   "source": [
    "combined_csv.to_csv(\"combined_analysis_celf5.csv\", index=False, encoding='utf-8-sig')"
   ]
  },
  {
   "cell_type": "code",
   "execution_count": null,
   "id": "f7eba206",
   "metadata": {},
   "outputs": [],
   "source": [
    "combined_csv"
   ]
  },
  {
   "cell_type": "code",
   "execution_count": null,
   "id": "70d46181",
   "metadata": {},
   "outputs": [],
   "source": [
    "rat = 'R01|R02|R03|R04|R05|506|R07|R08'\n",
    "section = 'S1|S2|S3|S4'"
   ]
  },
  {
   "cell_type": "code",
   "execution_count": null,
   "id": "33b7dec6",
   "metadata": {},
   "outputs": [],
   "source": [
    "rats = re.findall(combined_csv['Label'],rat)"
   ]
  },
  {
   "cell_type": "code",
   "execution_count": null,
   "id": "2833e0cf",
   "metadata": {
    "scrolled": true
   },
   "outputs": [],
   "source": [
    "combined_csv['rat'] = combined_csv['Label'].('\\bR0^[0-9]')"
   ]
  },
  {
   "cell_type": "code",
   "execution_count": 17,
   "id": "9e532604",
   "metadata": {},
   "outputs": [],
   "source": [
    "os.chdir(\"..\")"
   ]
  },
  {
   "cell_type": "code",
   "execution_count": 20,
   "id": "80e8f71f",
   "metadata": {},
   "outputs": [],
   "source": [
    "# only access Metric CSV files\n",
    "r = []                                                                                                            \n",
    "subdirs = [x[0] for x in os.walk(\"./Celf5_out\")] \n",
    "# subdirs = sorted(glob.glob(subdirs),key=os.path.getmtime)\n",
    "subdirs\n",
    "for subdir in subdirs:\n",
    "    files = os.walk(subdir).__next__()[2]\n",
    "#     files = sorted(files, key=os.path.getmtime)\n",
    "    if (len(files) > 0):\n",
    "        for file in files:\n",
    "            if file.endswith(\".csv\") & file.startswith(\"Metric\"):\n",
    "                r.append(os.path.join(subdir, file))\n",
    "r = sorted(r,key=os.path.getmtime)"
   ]
  },
  {
   "cell_type": "code",
   "execution_count": 21,
   "id": "236f7261",
   "metadata": {},
   "outputs": [
    {
     "data": {
      "text/plain": [
       "['./Celf5_out/R01/S1/Metric(s) of Celf5_R01S1CH1.csv',\n",
       " './Celf5_out/R01/S2/Metric(s) of Celf5_R01S2CH1.csv',\n",
       " './Celf5_out/R01/S3/Metric(s) of Celf5_R01S3CH1.csv',\n",
       " './Celf5_out/R01/S4/Metric(s) of Celf5_R01S4CH1.csv',\n",
       " './Celf5_out/R02/S1/Metric(s) of Celf5_R02S1CH1.csv',\n",
       " './Celf5_out/R02/S2/Metric(s) of Celf5_R02S2CH1.csv',\n",
       " './Celf5_out/R02/S3/Metric(s) of Celf5_R02S3CH1.csv',\n",
       " './Celf5_out/R02/S4/Metric(s) of Celf5_R02S4CH1.csv',\n",
       " './Celf5_out/R03/S1/Metric(s) of Celf5_R03S1CH1.csv',\n",
       " './Celf5_out/R03/S2/Metric(s) of Celf5_R03S2CH1.csv',\n",
       " './Celf5_out/R03/S3/Metric(s) of Celf5_R03S3CH1.csv',\n",
       " './Celf5_out/R03/S4/Metric(s) of Celf5_R03S4CH1.csv',\n",
       " './Celf5_out/R04/S1/Metric(s) of Celf5_R04S1CH1.csv',\n",
       " './Celf5_out/R04/S2/Metric(s) of Celf5_R04S2CH1.csv',\n",
       " './Celf5_out/R04/S3/Metric(s) of Celf5_R04S3CH1.csv',\n",
       " './Celf5_out/R04/S4/Metric(s) of Celf5_R04S4CH1.csv',\n",
       " './Celf5_out/R05/S1/Metric(s) of Celf5_R05S1CH1.csv',\n",
       " './Celf5_out/R05/S2/Metric(s) of Celf5_R05S2CH1.csv',\n",
       " './Celf5_out/R05/S3/Metric(s) of Celf5_R05S3CH1.csv',\n",
       " './Celf5_out/R05/S4/Metric(s) of Celf5_R05S4CH1.csv',\n",
       " './Celf5_out/R06/S1/Metric(s) of Celf5_R06S1CH1.csv',\n",
       " './Celf5_out/R06/S2/Metric(s) of Celf5_R06S2CH1.csv',\n",
       " './Celf5_out/R06/S3/Metric(s) of Celf5_R06S3CH1.csv',\n",
       " './Celf5_out/R06/S4/Metric(s) of Celf5_R06S4CH1.csv',\n",
       " './Celf5_out/R07/S1/Metric(s) of Celf5_R07S1CH1.csv',\n",
       " './Celf5_out/R07/S2/Metric(s) of Celf5_R07S2CH1.csv',\n",
       " './Celf5_out/R07/S3/Metric(s) of Celf5_R07S3CH1.csv',\n",
       " './Celf5_out/R07/S4/Metric(s) of Celf5_R07S4CH1.csv',\n",
       " './Celf5_out/R08/S1/Metric(s) of Celf5_R08S1CH1.csv',\n",
       " './Celf5_out/R08/S2/Metric(s) of Celf5_R08S2CH1.csv',\n",
       " './Celf5_out/R08/S3/Metric(s) of Celf5_R08S3CH1.csv',\n",
       " './Celf5_out/R08/S4/Metric(s) of Celf5_R08S4CH1.csv']"
      ]
     },
     "execution_count": 21,
     "metadata": {},
     "output_type": "execute_result"
    }
   ],
   "source": [
    "r"
   ]
  },
  {
   "cell_type": "code",
   "execution_count": 22,
   "id": "2bf60353",
   "metadata": {},
   "outputs": [],
   "source": [
    "combined_out_merged = pd.concat([pd.read_csv(f) for f in r ])"
   ]
  },
  {
   "cell_type": "code",
   "execution_count": 23,
   "id": "0b666f30",
   "metadata": {},
   "outputs": [],
   "source": [
    "combined_out_merged.to_csv( \"combined_out_metrics_merged.csv\", index=False, encoding='utf-8-sig')"
   ]
  },
  {
   "cell_type": "code",
   "execution_count": null,
   "id": "c257e7bf",
   "metadata": {},
   "outputs": [],
   "source": [
    "combined_csv_merged"
   ]
  }
 ],
 "metadata": {
  "kernelspec": {
   "display_name": "Python 3",
   "language": "python",
   "name": "python3"
  },
  "language_info": {
   "codemirror_mode": {
    "name": "ipython",
    "version": 3
   },
   "file_extension": ".py",
   "mimetype": "text/x-python",
   "name": "python",
   "nbconvert_exporter": "python",
   "pygments_lexer": "ipython3",
   "version": "3.8.8"
  }
 },
 "nbformat": 4,
 "nbformat_minor": 5
}
