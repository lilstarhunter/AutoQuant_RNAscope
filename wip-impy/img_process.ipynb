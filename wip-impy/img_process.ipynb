{
 "cells": [
  {
   "cell_type": "code",
   "execution_count": 14,
   "metadata": {},
   "outputs": [],
   "source": [
    "# Install dependencies\n",
    "%matplotlib inline\n",
    "import matplotlib.pylab as plt #Combines both Pyplot and Numpy in the same namespace **discouraged \n",
    "import matplotlib.image as mpimg\n",
    "import numpy as np\n",
    "\n",
    "# Scikit-Image\n",
    "from skimage import viewer\n",
    "import skimage.io as skio\n",
    "import os\n",
    "\n",
    "\n",
    "#Pillow\n",
    "from PIL import Image\n",
    "from PIL.ImageChops import add, subtract, multiply, difference, screen\n",
    "import PIL.ImageStat as stat"
   ]
  },
  {
   "cell_type": "code",
   "execution_count": 15,
   "metadata": {},
   "outputs": [
    {
     "ename": "SyntaxError",
     "evalue": "Missing parentheses in call to 'print'. Did you mean print(\"A jpeg file already exists for %s\" % name)? (1963682761.py, line 7)",
     "output_type": "error",
     "traceback": [
      "\u001b[0;36m  File \u001b[0;32m\"/var/folders/n3/rtkkkct53vv4kkqnt33jbht80000gp/T/ipykernel_75935/1963682761.py\"\u001b[0;36m, line \u001b[0;32m7\u001b[0m\n\u001b[0;31m    print \"A jpeg file already exists for %s\" % name\u001b[0m\n\u001b[0m                                            ^\u001b[0m\n\u001b[0;31mSyntaxError\u001b[0m\u001b[0;31m:\u001b[0m Missing parentheses in call to 'print'. Did you mean print(\"A jpeg file already exists for %s\" % name)?\n"
     ]
    }
   ],
   "source": [
    "path = os.getcwd()\n",
    "for root, dirs, files in os.walk(path, topdown=False):\n",
    "    for name in files:\n",
    "        print(os.path.join(root, name))\n",
    "        if os.path.splitext(os.path.join(root, name))[1].lower() == \".tiff\":\n",
    "            if os.path.isfile(os.path.splitext(os.path.join(root, name))[0] + \".jpg\"):\n",
    "                print(\"A jpeg file already exists for %s\" % name)\n",
    "            # If a jpeg is *NOT* present, create one from the tiff.\n",
    "            else:\n",
    "                outfile = os.path.splitext(os.path.join(root, name))[0] + \".jpg\"\n",
    "                try:\n",
    "                    im = Image.open(os.path.join(root, name))\n",
    "                    print(\"Generating jpeg for %s\" % name)\n",
    "                    im.thumbnail(im.size)\n",
    "                    im.save(outfile, \"JPEG\", quality=100)\n"
   ]
  },
  {
   "cell_type": "code",
   "execution_count": null,
   "metadata": {},
   "outputs": [],
   "source": []
  },
  {
   "cell_type": "code",
   "execution_count": null,
   "metadata": {},
   "outputs": [],
   "source": []
  }
 ],
 "metadata": {
  "interpreter": {
   "hash": "fbada6ed74ff021af6359b0782603d0b0d2248f9b504081776a7d77c89064329"
  },
  "kernelspec": {
   "display_name": "Python 3.8.6 64-bit ('bsoid_v2': conda)",
   "name": "python3"
  },
  "language_info": {
   "codemirror_mode": {
    "name": "ipython",
    "version": 3
   },
   "file_extension": ".py",
   "mimetype": "text/x-python",
   "name": "python",
   "nbconvert_exporter": "python",
   "pygments_lexer": "ipython3",
   "version": "3.7.6"
  },
  "orig_nbformat": 4
 },
 "nbformat": 4,
 "nbformat_minor": 2
}
